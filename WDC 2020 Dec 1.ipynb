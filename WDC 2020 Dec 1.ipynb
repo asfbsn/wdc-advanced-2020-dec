{
 "cells": [
  {
   "cell_type": "code",
   "execution_count": 2,
   "metadata": {},
   "outputs": [
    {
     "name": "stdout",
     "output_type": "stream",
     "text": [
      "hello, world!\n"
     ]
    }
   ],
   "source": [
    "print('hello, world!')"
   ]
  },
  {
   "cell_type": "code",
   "execution_count": 3,
   "metadata": {},
   "outputs": [],
   "source": [
    "x = None"
   ]
  },
  {
   "cell_type": "code",
   "execution_count": 4,
   "metadata": {},
   "outputs": [],
   "source": [
    "x = 5"
   ]
  },
  {
   "cell_type": "code",
   "execution_count": 5,
   "metadata": {},
   "outputs": [
    {
     "data": {
      "text/plain": [
       "{'__name__': '__main__',\n",
       " '__doc__': 'Automatically created module for IPython interactive environment',\n",
       " '__package__': None,\n",
       " '__loader__': None,\n",
       " '__spec__': None,\n",
       " '__builtin__': <module 'builtins' (built-in)>,\n",
       " '__builtins__': <module 'builtins' (built-in)>,\n",
       " '_ih': ['',\n",
       "  \"print('Hello, world!')\",\n",
       "  \"print('hello, world!')\",\n",
       "  'x = None',\n",
       "  'x = 5',\n",
       "  'globals()'],\n",
       " '_oh': {},\n",
       " '_dh': ['/Users/reuven/Consulting/Courses/Python/wdc-advanced-2020-dec'],\n",
       " 'In': ['',\n",
       "  \"print('Hello, world!')\",\n",
       "  \"print('hello, world!')\",\n",
       "  'x = None',\n",
       "  'x = 5',\n",
       "  'globals()'],\n",
       " 'Out': {},\n",
       " 'get_ipython': <bound method InteractiveShell.get_ipython of <ipykernel.zmqshell.ZMQInteractiveShell object at 0x1088b0790>>,\n",
       " 'exit': <IPython.core.autocall.ZMQExitAutocall at 0x10895c6a0>,\n",
       " 'quit': <IPython.core.autocall.ZMQExitAutocall at 0x10895c6a0>,\n",
       " '_': '',\n",
       " '__': '',\n",
       " '___': '',\n",
       " '_i': 'x = 5',\n",
       " '_ii': 'x = None',\n",
       " '_iii': \"print('hello, world!')\",\n",
       " '_i1': \"print('Hello, world!')\",\n",
       " '_i2': \"print('hello, world!')\",\n",
       " '_i3': 'x = None',\n",
       " 'x': 5,\n",
       " '_i4': 'x = 5',\n",
       " '_i5': 'globals()'}"
      ]
     },
     "execution_count": 5,
     "metadata": {},
     "output_type": "execute_result"
    }
   ],
   "source": [
    "globals()"
   ]
  },
  {
   "cell_type": "code",
   "execution_count": 6,
   "metadata": {},
   "outputs": [],
   "source": [
    "x = 5\n",
    "y = 5\n",
    "z = 5"
   ]
  },
  {
   "cell_type": "code",
   "execution_count": 7,
   "metadata": {},
   "outputs": [
    {
     "data": {
      "text/plain": [
       "{'__name__': '__main__',\n",
       " '__doc__': 'Automatically created module for IPython interactive environment',\n",
       " '__package__': None,\n",
       " '__loader__': None,\n",
       " '__spec__': None,\n",
       " '__builtin__': <module 'builtins' (built-in)>,\n",
       " '__builtins__': <module 'builtins' (built-in)>,\n",
       " '_ih': ['',\n",
       "  \"print('Hello, world!')\",\n",
       "  \"print('hello, world!')\",\n",
       "  'x = None',\n",
       "  'x = 5',\n",
       "  'globals()',\n",
       "  'x = 5\\ny = 5\\nz = 5',\n",
       "  'globals()'],\n",
       " '_oh': {5: {...}},\n",
       " '_dh': ['/Users/reuven/Consulting/Courses/Python/wdc-advanced-2020-dec'],\n",
       " 'In': ['',\n",
       "  \"print('Hello, world!')\",\n",
       "  \"print('hello, world!')\",\n",
       "  'x = None',\n",
       "  'x = 5',\n",
       "  'globals()',\n",
       "  'x = 5\\ny = 5\\nz = 5',\n",
       "  'globals()'],\n",
       " 'Out': {5: {...}},\n",
       " 'get_ipython': <bound method InteractiveShell.get_ipython of <ipykernel.zmqshell.ZMQInteractiveShell object at 0x1088b0790>>,\n",
       " 'exit': <IPython.core.autocall.ZMQExitAutocall at 0x10895c6a0>,\n",
       " 'quit': <IPython.core.autocall.ZMQExitAutocall at 0x10895c6a0>,\n",
       " '_': {...},\n",
       " '__': '',\n",
       " '___': '',\n",
       " '_i': 'x = 5\\ny = 5\\nz = 5',\n",
       " '_ii': 'globals()',\n",
       " '_iii': 'x = 5',\n",
       " '_i1': \"print('Hello, world!')\",\n",
       " '_i2': \"print('hello, world!')\",\n",
       " '_i3': 'x = None',\n",
       " 'x': 5,\n",
       " '_i4': 'x = 5',\n",
       " '_i5': 'globals()',\n",
       " '_5': {...},\n",
       " '_i6': 'x = 5\\ny = 5\\nz = 5',\n",
       " 'y': 5,\n",
       " 'z': 5,\n",
       " '_i7': 'globals()'}"
      ]
     },
     "execution_count": 7,
     "metadata": {},
     "output_type": "execute_result"
    }
   ],
   "source": [
    "globals()"
   ]
  },
  {
   "cell_type": "code",
   "execution_count": 8,
   "metadata": {},
   "outputs": [],
   "source": [
    "x = None"
   ]
  },
  {
   "cell_type": "code",
   "execution_count": 9,
   "metadata": {},
   "outputs": [
    {
     "data": {
      "text/plain": [
       "NoneType"
      ]
     },
     "execution_count": 9,
     "metadata": {},
     "output_type": "execute_result"
    }
   ],
   "source": [
    "type(x)"
   ]
  },
  {
   "cell_type": "code",
   "execution_count": 10,
   "metadata": {},
   "outputs": [
    {
     "data": {
      "text/plain": [
       "NoneType"
      ]
     },
     "execution_count": 10,
     "metadata": {},
     "output_type": "execute_result"
    }
   ],
   "source": [
    "type(None)"
   ]
  },
  {
   "cell_type": "code",
   "execution_count": null,
   "metadata": {},
   "outputs": [],
   "source": [
    "type(None)"
   ]
  }
 ],
 "metadata": {
  "kernelspec": {
   "display_name": "Python 3",
   "language": "python",
   "name": "python3"
  },
  "language_info": {
   "codemirror_mode": {
    "name": "ipython",
    "version": 3
   },
   "file_extension": ".py",
   "mimetype": "text/x-python",
   "name": "python",
   "nbconvert_exporter": "python",
   "pygments_lexer": "ipython3",
   "version": "3.9.0"
  }
 },
 "nbformat": 4,
 "nbformat_minor": 4
}
